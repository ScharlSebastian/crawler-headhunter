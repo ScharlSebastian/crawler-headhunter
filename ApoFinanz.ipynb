{
 "cells": [
  {
   "cell_type": "code",
   "execution_count": null,
   "metadata": {},
   "outputs": [],
   "source": [
    "import requests\n",
    "from bs4 import BeautifulSoup\n",
    "from urllib.parse import urljoin\n",
    "import urllib.request\n",
    "\n",
    "import time\n",
    "import pandas as pd\n",
    "import os.path\n",
    "from os import path\n",
    "\n",
    "from selenium import webdriver\n",
    "from selenium.webdriver.common.keys import Keys\n",
    "from selenium.webdriver.common.by import By\n",
    "import re\n",
    "\n",
    "#User_agent\n",
    "from fake_useragent import UserAgent\n",
    "\n",
    "#implements webdriver\n",
    "from selenium.webdriver.common.by import By\n",
    "from selenium.webdriver.support.ui import WebDriverWait\n",
    "from selenium.webdriver.support import expected_conditions as EC\n",
    "from selenium.webdriver.support.ui import Select\n",
    "\n",
    "\n",
    "#my Imports\n",
    "from Employee import *\n",
    "from Tools import *"
   ]
  },
  {
   "cell_type": "code",
   "execution_count": null,
   "metadata": {},
   "outputs": [],
   "source": [
    "header = {'User-Agent': 'Mozilla/5.0 (X11; NetBSD) AppleWebKit/537.36 (KHTML, like Gecko) Chrome/27.0.1453.116 Safari/537.36'}\n",
    "header"
   ]
  },
  {
   "cell_type": "code",
   "execution_count": null,
   "metadata": {},
   "outputs": [],
   "source": [
    "mainOrganisation = \"ApoFinanz\"\n",
    "mainRootUrl = \"insert-url\"\n",
    "    \n",
    "exportDirectory = \"Exports/\"+ mainOrganisation + \"/\"\n",
    "pictureDirectory = \"Exports/\"+ mainOrganisation + \"/Mitarbeiter Bilder/\"\n",
    "\n",
    "chrome_options = webdriver.ChromeOptions()\n",
    "#chrome_options.add_argument('headless')\n",
    "chrome_options.add_argument('window-size=1920x1080')\n",
    "driver = webdriver.Chrome(options=chrome_options)\n",
    "driver.get(mainRootUrl)"
   ]
  },
  {
   "cell_type": "code",
   "execution_count": null,
   "metadata": {},
   "outputs": [],
   "source": [
    "counter = 0\n",
    "\n",
    "for person in driver.find_elements_by_xpath(\"//article[contains(@class, 'contactperson-detail-item') and contains(@class, 'apo-xs-col-6') and contains(@class, 'apo-md-col-2')]\"):\n",
    "    \n",
    "    if counter == 0:\n",
    "        counter += 1\n",
    "        continue\n",
    "    \n",
    "    # name\n",
    "    name_raw = person.find_element_by_xpath(\".//span[contains(@class, 'name')]\").text\n",
    "    name_full_list = name_raw.split(\" \")\n",
    "    try:\n",
    "        if len(name_full_list) > 2 and name_full_list[2] != \"\":\n",
    "            name = ' '.join(name_full_list[:len(name_full_list) - 1])\n",
    "            surname = name_full_list[-1:]\n",
    "        else:\n",
    "            name = name_full_list[0]\n",
    "            surname = name_full_list[1]\n",
    "    except:\n",
    "        name = \"\"\n",
    "        surname = \"\"\n",
    "    \n",
    "    \n",
    "    # position & qualification\n",
    "    #try:\n",
    "    position_raw = person.text\n",
    "    position_list = position_raw.split(\"\\n\")\n",
    "    #print(position_raw)\n",
    "    #print(len(position_list))\n",
    "    position = position_list[1]\n",
    "    qualification = position_list[2]\n",
    "    # print(position)\n",
    "    # print(qualification)\n",
    "\n",
    "    \n",
    "    # phonenumber\n",
    "    mobile_phonenumber_raw = person.find_element_by_xpath(\".//a[contains(@href, 'Mobil')]\").text\n",
    "    mobile_phonenumber = mobile_phonenumber_raw.replace(\"Mobil: \",\"\").replace(\" \",\"\").replace(\"/\",\"\").replace(\"-\",\"\")\n",
    "    try:\n",
    "        telefon_phonenumber_raw = person.find_element_by_xpath(\".//a[contains(@href, 'Telefon')]\").text\n",
    "        telefon_phonenumber = telefon_phonenumber_raw.replace(\"Telefon: \",\"\").replace(\" \",\"\").replace(\"/\",\"\").replace(\"-\",\"\")\n",
    "    except:\n",
    "        telefon_phonenumber = \"\"\n",
    "\n",
    "    if \"0\" in mobile_phonenumber:\n",
    "        phonenumber = mobile_phonenumber\n",
    "    else:\n",
    "        phonenumber = telefon_phonenumber\n",
    "    print(phonenumber)\n",
    "    \n",
    "    \n",
    "    # image\n",
    "    image = person.find_element_by_xpath(\".//div/img\").get_attribute(\"src\")\n",
    "    # print(image)\n",
    "    \n",
    "    \n",
    "    # address\n",
    "    address_raw = driver.find_element_by_xpath(\"//div[contains(@class, 'contactperson-location') and contains(@class, 'js-contactperson-location')]/article[contains(@class, 'contactperson-overview-item')]/p\").text\n",
    "    address_list = address_raw.split(\"\\n\")\n",
    "    street = address_list[0]\n",
    "    city_list_raw = address_list[1].split(\" \")\n",
    "    plz = city_list_raw[0]\n",
    "    city = \" \".join(city_list_raw[1:])\n",
    "    # print(street)\n",
    "    # print(plz)\n",
    "    # print(city)\n",
    "    \n",
    "    \n",
    "    Employee(surname=surname, name=name, image=image, phonenumber=phonenumber, position=position, city=city, plz=plz, street=street, organisation=organisation, qualification=qualification).add_employee()\n",
    "    \n",
    "    counter += 1"
   ]
  },
  {
   "cell_type": "code",
   "execution_count": null,
   "metadata": {},
   "outputs": [],
   "source": []
  },
  {
   "cell_type": "code",
   "execution_count": null,
   "metadata": {},
   "outputs": [],
   "source": [
    "Employee.get_employees()"
   ]
  },
  {
   "cell_type": "code",
   "execution_count": null,
   "metadata": {},
   "outputs": [],
   "source": [
    "\n",
    "    \n",
    "#----------------------------------------------------------------------------------------------------------------\n",
    "#Write Employee Excel\n",
    "\n",
    "\n",
    "Tool = Tools()\n",
    "cols = [\"Funktion\",\"Nachname\",\"Vorname\",\"PLZ (Geschäft)\",\"Ort (Geschäft)\",\"Telefon (Geschäft)\",\"Organisation\",\"Qualifikation\", \"Bild\",\"Strasse\", \"Eigene Website\"]\n",
    "\n",
    "dfRaw = pd.DataFrame.from_dict(Employee.get_employees())\n",
    "\n",
    "df = pd.DataFrame.from_dict(dfRaw)\n",
    "df = df[cols]\n",
    "\n",
    "#Write Dataframe to Excel Sheet\n",
    "writer = pd.ExcelWriter(\"Exports/\"+ mainOrganisation + \"/\" + mainOrganisation + \" Mitarbeiter.xlsx\")\n",
    "df.to_excel(writer, mainOrganisation, index=False)\n",
    "writer.save()\n",
    "#----------------------------------------------------------------------------------------------------------------"
   ]
  },
  {
   "cell_type": "code",
   "execution_count": null,
   "metadata": {},
   "outputs": [],
   "source": [
    "crawlerName = mainOrganisation\n",
    "df = pd.read_excel(\"Exports/\"+ crawlerName + \"/\" + crawlerName + \" Mitarbeiter.xlsx\")\n",
    "#----------------------------------------------------------------------------------------------------------------\n",
    "#Picture download\n",
    "Tool = Tools()\n",
    "downloadError = Tool.employee_picture_download(crawlerName)\n",
    "print(downloadError)"
   ]
  },
  {
   "cell_type": "code",
   "execution_count": null,
   "metadata": {},
   "outputs": [],
   "source": []
  },
  {
   "cell_type": "code",
   "execution_count": null,
   "metadata": {},
   "outputs": [],
   "source": []
  },
  {
   "cell_type": "code",
   "execution_count": null,
   "metadata": {},
   "outputs": [],
   "source": [
    "class chromeDriver():\n",
    "    \n",
    "    # Class Variables:\n",
    "    \n",
    "    mainOrganisation = \"ApoFinanz\"\n",
    "    mainRootUrl = \"https://www.apofinanz.de/berater\"\n",
    "    \n",
    "    exportDirectory = \"Exports/\"+ mainOrganisation + \"/\"\n",
    "    pictureDirectory = \"Exports/\"+ mainOrganisation + \"/Mitarbeiter Bilder/\"\n",
    "    \n",
    "    def __init__(self):\n",
    "        \n",
    "        chrome_options = webdriver.ChromeOptions()\n",
    "        #chrome_options.add_argument('headless')\n",
    "        chrome_options.add_argument('window-size=1920x1080')\n",
    "        self.browser = webdriver.Chrome(options=chrome_options)\n",
    "        driver = self.browser\n",
    "        driver.get(self.mainRootUrl)\n",
    "        \n",
    "    \n",
    "    def get_html(self):\n",
    "        \n",
    "        driver = self.browser\n",
    "        rootUrl = self.mainRootUrl\n",
    "        \n",
    "        driver.get(rootUrl)\n",
    "        \n",
    "        contacts = driver.find_elements_by_css_selector(\".contactperson-detail-item .apo-xs-col-6 .apo-md-col-2\")\n",
    "        name = contacts.find_elements_by_css_selector(\".name\").text\n",
    "        # print(name)\n",
    "        \n",
    "        return contacts"
   ]
  },
  {
   "cell_type": "code",
   "execution_count": null,
   "metadata": {},
   "outputs": [],
   "source": [
    "# cDriver = chromeDriver()"
   ]
  },
  {
   "cell_type": "code",
   "execution_count": null,
   "metadata": {},
   "outputs": [],
   "source": []
  },
  {
   "cell_type": "code",
   "execution_count": null,
   "metadata": {},
   "outputs": [],
   "source": [
    "name_raw = driver.find_element_by_xpath(\"//div[contains(@class, 'contactperson-detail-list')]/article[contains(@class, 'contactperson-detail-item')]/span[contains(@class, 'name')]\").text\n",
    "name_full_list = name_raw.split(\" \")\n",
    "try:\n",
    "    if len(name_full_list) > 2 and name_full_list[2] != \"\":\n",
    "        name = ' '.join(name_full_list[:len(name_full_list) - 1])\n",
    "        surname = name_full_list[-1:]\n",
    "    else:\n",
    "        name = name_full_list[0]\n",
    "        surname = name_full_list[1]\n",
    "except:\n",
    "    name = \"\"\n",
    "    surname = \"\"\n",
    "    \n",
    "print(name)\n",
    "print(surname)"
   ]
  },
  {
   "cell_type": "code",
   "execution_count": null,
   "metadata": {},
   "outputs": [],
   "source": [
    "position_raw = driver.find_element_by_xpath(\"//div[contains(@class, 'contactperson-detail-list')]/article[contains(@class, 'contactperson-detail-item')]\").text\n",
    "position = position_raw.split(\"\\n\")[1]\n",
    "qualifikation = position_raw.split(\"\\n\")[2]\n",
    "print(position)\n",
    "print(qualifikation)"
   ]
  },
  {
   "cell_type": "code",
   "execution_count": null,
   "metadata": {},
   "outputs": [],
   "source": [
    "mobile_phonenumber_raw = driver.find_element_by_xpath(\"//div[contains(@class, 'contactperson-detail-list')]/article[contains(@class, 'contactperson-detail-item')]/a[contains(@href, 'Mobil')]\").text\n",
    "mobile_phonenumber = mobile_phonenumber_raw.replace(\"Mobil: \",\"\").replace(\" \",\"\").replace(\"/\",\"\").replace(\"-\",\"\")\n",
    "telefon_phonenumber_raw = driver.find_element_by_xpath(\"//div[contains(@class, 'contactperson-detail-list')]/article[contains(@class, 'contactperson-detail-item')]/a[contains(@href, 'Mobil')]\").text\n",
    "telefon_phonenumber = telefon_phonenumber_raw.replace(\"Mobil: \",\"\").replace(\" \",\"\").replace(\"/\",\"\").replace(\"-\",\"\")\n",
    "\n",
    "if \"0\" in mobile_phonenumber:\n",
    "    phonenumber = mobile_phonenumber\n",
    "else:\n",
    "    phonenumber = telefon_phonenumber_raw\n",
    "\n",
    "phonenumber"
   ]
  },
  {
   "cell_type": "code",
   "execution_count": null,
   "metadata": {},
   "outputs": [],
   "source": [
    "image = driver.find_element_by_xpath(\"//div[contains(@class, 'contactperson-detail-list')]/article[contains(@class, 'contactperson-detail-item')]/div/img\").get_attribute(\"src\")\n",
    "image"
   ]
  },
  {
   "cell_type": "code",
   "execution_count": null,
   "metadata": {},
   "outputs": [],
   "source": [
    "address_raw = driver.find_element_by_xpath(\"//div[contains(@class, 'contactperson-location') and contains(@class, 'js-contactperson-location')]/article[contains(@class, 'contactperson-overview-item')]/p\").text\n",
    "address_list = address_raw.split(\"\\n\")\n",
    "street = address_list[0]\n",
    "city_list_raw = address_list[1].split(\" \")\n",
    "plz = city_list_raw[0]\n",
    "city = \" \".join(city_list_raw[1:])\n",
    "print(street)\n",
    "print(plz)\n",
    "print(city)"
   ]
  },
  {
   "cell_type": "code",
   "execution_count": null,
   "metadata": {},
   "outputs": [],
   "source": [
    "organisation = \"ApoFinanz\""
   ]
  },
  {
   "cell_type": "code",
   "execution_count": null,
   "metadata": {},
   "outputs": [],
   "source": [
    "Employee(surname=surname, name=name, image=image, phonenumber=phonenumber, position=position, city=city, plz=plz, street=street, organisation=organisation, qualifikation=qualifikation).add_employee()"
   ]
  },
  {
   "cell_type": "code",
   "execution_count": null,
   "metadata": {},
   "outputs": [],
   "source": [
    "Employee.get_employees()"
   ]
  },
  {
   "cell_type": "code",
   "execution_count": null,
   "metadata": {},
   "outputs": [],
   "source": []
  },
  {
   "cell_type": "code",
   "execution_count": null,
   "metadata": {},
   "outputs": [],
   "source": []
  },
  {
   "cell_type": "code",
   "execution_count": null,
   "metadata": {},
   "outputs": [],
   "source": [
    "Employee(surname=surname, name=name, image=image, phonenumber=phonenumber, position=position, city=city, plz=plz, street=street, organisation=organisation).add_employee()"
   ]
  }
 ],
 "metadata": {
  "kernelspec": {
   "display_name": "Python 3",
   "language": "python",
   "name": "python3"
  },
  "language_info": {
   "codemirror_mode": {
    "name": "ipython",
    "version": 3
   },
   "file_extension": ".py",
   "mimetype": "text/x-python",
   "name": "python",
   "nbconvert_exporter": "python",
   "pygments_lexer": "ipython3",
   "version": "3.6.6"
  }
 },
 "nbformat": 4,
 "nbformat_minor": 2
}
